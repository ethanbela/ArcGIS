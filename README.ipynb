{
  "nbformat": 4,
  "nbformat_minor": 0,
  "metadata": {
    "colab": {
      "provenance": []
    },
    "kernelspec": {
      "name": "python3",
      "display_name": "Python 3"
    },
    "language_info": {
      "name": "python"
    }
  },
  "cells": [
    {
      "cell_type": "markdown",
      "source": [
        "# **GEO 441B/541B Geographic Information Systems**\n",
        "\n",
        "Ethan Belak\n",
        "\n",
        "## Overview\n",
        "- This repository contains Google Colab Notebooks prepared for GEO 441/541 @Miami University\n",
        "- Students can build a repository like this as their project portfolio\n",
        "\n",
        "## 3D Mapping\n",
        "- The World in 3D: Spatial 3D mapping of building heights (https://github.com/ethanbela/ArcGIS/blob/master/3D%20Mapping/The%20World%20in%203D%20(Mapping%20building%20Heights).ipynb)\n",
        "\n",
        "## Basic Mapping\n",
        "\n",
        "- Mapping Cloquet Forest: A basic map of Cloquet Forest (https://github.com/ethanbela/ArcGIS/blob/master/Basic%20Mapping/Mapping%20Cloquet%20Forest.ipynb)\n",
        "- Cloquet Vegetation: Cloquet Forest map with addition of vegetation (https://github.com/ethanbela/ArcGIS/blob/master/Basic%20Mapping/Cloquet%20Vegetation.ipynb)\n",
        "- Mapping hydrology of St. Croix: Lower St. Croix Watershed map (https://github.com/ethanbela/ArcGIS/blob/master/Basic%20Mapping/Mapping%20hydrology%20of%20St.%20Croix.ipynb)\n",
        "\n",
        "## Build Selections and Queries\n",
        "- Spatial Query for US: Map of high population counties w/ high Old/Young ratios (https://github.com/ethanbela/ArcGIS/blob/master/Build%20Selections%20and%20Queries/Spatial%20Query%20for%20US.ipynb)\n",
        "\n",
        "\n"
      ],
      "metadata": {
        "id": "HkpDtahEOmZD"
      }
    },
    {
      "cell_type": "markdown",
      "source": [
        "## Helpful Files\n",
        "\n",
        "- Understanding BandComposition: Document on near \tinfrared spectra (https://github.com/ethanbela/ArcGIS/blob/master/Helpful%20Files/Understanding%20Band%20Composition.ipynb)\n",
        "- Create a GitHub Repository portfolio: Description of how to make a GitHub repository (https://github.com/ethanbela/ArcGIS/blob/master/Helpful%20Files/Create%20a%20GitHub%20Repository.ipynb)\n",
        "\n",
        "\n",
        "## Map Coordinates\n",
        "- Minnesota Map Projections: Map of Minnesota Counties on a globe (https://github.com/ethanbela/ArcGIS/blob/master/Map%20Coordinates/Minnesota%20Map%20Projections.ipynb)\n",
        "\n",
        "## Spatial Analysis for Raster Data\n",
        "- Mapping US Census Data: School age students and renters on the census tract level for Ohio (https://github.com/ethanbela/ArcGIS/blob/master/Spatial%20Analysis%20for%20Raster%20Data/Mapping%20US%20Census%20Data.ipynb)\n",
        "\n",
        "## Spatial Analysis for Vector Data\n",
        "- Cholera and Camp site vector data: Cholera outbreak and potential campgrounds (https://github.com/ethanbela/ArcGIS/blob/master/Spatial%20Analysis%20for%20Vector%20Data/Cholera%20and%20Camp%20site%20vector%20data.ipynb)\n",
        "\n",
        "## Web Based Mapping\n",
        "- Cholera Application: URL to published Cholera map (https://github.com/ethanbela/ArcGIS/blob/master/Web%20Based%20Mapping/Cholera%20Application.pdf)\n"
      ],
      "metadata": {
        "id": "nTGtQz30QILU"
      }
    }
  ]
}